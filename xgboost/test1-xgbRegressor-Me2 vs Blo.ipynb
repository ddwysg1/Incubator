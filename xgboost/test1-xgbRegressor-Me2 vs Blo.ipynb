{
 "cells": [
  {
   "cell_type": "code",
   "execution_count": 1,
   "metadata": {},
   "outputs": [],
   "source": [
    "import pandas as pd\n",
    "import numpy as np\n",
    "import xgboost as xgb"
   ]
  },
  {
   "cell_type": "code",
   "execution_count": 2,
   "metadata": {},
   "outputs": [],
   "source": [
    "data = pd.read_csv(\"forest_addFire_thresh0.csv\")"
   ]
  },
  {
   "cell_type": "code",
   "execution_count": 3,
   "metadata": {},
   "outputs": [],
   "source": [
    "data.head()\n",
    "data=data.replace(-9999,np.nan)"
   ]
  },
  {
   "cell_type": "code",
   "execution_count": 4,
   "metadata": {},
   "outputs": [],
   "source": [
    "Me2=data.loc[data[\"Site\"]=='Me2']"
   ]
  },
  {
   "cell_type": "code",
   "execution_count": 5,
   "metadata": {},
   "outputs": [],
   "source": [
    "Blo=data.loc[data[\"Site\"]=='Blo']"
   ]
  },
  {
   "cell_type": "code",
   "execution_count": 6,
   "metadata": {},
   "outputs": [],
   "source": [
    "from collections import Counter\n",
    "def detect_outliers(df,n,features):\n",
    "    outlier_indices = []\n",
    "    # iterate over features(columns)\n",
    "    for col in features:\n",
    "        # 1st quartile (25%)\n",
    "        Q1 = np.percentile(df[col], 25)\n",
    "        # 3rd quartile (75%)\n",
    "        Q3 = np.percentile(df[col],75)\n",
    "        # Interquartile range (IQR)\n",
    "        IQR = Q3 - Q1\n",
    "        # outlier step\n",
    "        outlier_step = 1.5 * IQR\n",
    "        # Determine a list of indices of outliers for feature col\n",
    "        outlier_list_col = df[(df[col] < Q1 - outlier_step) | (df[col] > Q3 + outlier_step )].index\n",
    "        # append the found outlier indices for col to the list of outlier indices \n",
    "        outlier_indices.extend(outlier_list_col)\n",
    "    # select observations containing more than 2 outliers\n",
    "    outlier_indices = Counter(outlier_indices)        \n",
    "    multiple_outliers = list( k for k, v in outlier_indices.items() if v > n )\n",
    "    return multiple_outliers   \n",
    "\n",
    "# detect outliers from Age, SibSp , Parch and Fare\n"
   ]
  },
  {
   "cell_type": "code",
   "execution_count": 7,
   "metadata": {},
   "outputs": [
    {
     "name": "stderr",
     "output_type": "stream",
     "text": [
      "c:\\users\\ywang\\appdata\\local\\programs\\python\\python36\\lib\\site-packages\\numpy\\lib\\function_base.py:4274: RuntimeWarning: Invalid value encountered in percentile\n",
      "  interpolation=interpolation)\n"
     ]
    }
   ],
   "source": [
    "Outliers_to_drop = detect_outliers(Me2,2,[\"Net Radiation\",\"Latent Heat\",\"Sensible Heat\",\"Soil Heat Flux\",\"Air Temp\",'Soil Temp','CO2 Flux'])\n",
    "Me2 = Me2.drop(Outliers_to_drop, axis = 0).reset_index(drop=True)"
   ]
  },
  {
   "cell_type": "code",
   "execution_count": 8,
   "metadata": {},
   "outputs": [
    {
     "name": "stderr",
     "output_type": "stream",
     "text": [
      "c:\\users\\ywang\\appdata\\local\\programs\\python\\python36\\lib\\site-packages\\numpy\\lib\\function_base.py:4274: RuntimeWarning: Invalid value encountered in percentile\n",
      "  interpolation=interpolation)\n"
     ]
    }
   ],
   "source": [
    "Outliers_to_drop = detect_outliers(Blo,2,[\"Net Radiation\",\"Latent Heat\",\"Sensible Heat\",\"Soil Heat Flux\",\"Air Temp\",'Soil Temp','CO2 Flux'])\n",
    "Blo = Blo.drop(Outliers_to_drop, axis = 0).reset_index(drop=True)"
   ]
  },
  {
   "cell_type": "code",
   "execution_count": 9,
   "metadata": {},
   "outputs": [],
   "source": [
    "X_train=Me2[[\"Net Radiation\",\"Latent Heat\",\"Sensible Heat\",\"Soil Heat Flux\",\"Air Temp\",'Soil Temp','Fire']]"
   ]
  },
  {
   "cell_type": "code",
   "execution_count": 10,
   "metadata": {},
   "outputs": [],
   "source": [
    "y_train=Me2[\"CO2 Flux\"]"
   ]
  },
  {
   "cell_type": "code",
   "execution_count": 11,
   "metadata": {},
   "outputs": [],
   "source": [
    "def MaxMinNormalization(x,Max,Min):  \n",
    "    x = (x - Min) / (Max - Min);  \n",
    "    return x;  \n",
    "X_train=MaxMinNormalization(X_train,np.max(X_train),np.min(X_train))\n",
    "y_train=MaxMinNormalization(y_train,np.max(y_train),np.min(y_train))"
   ]
  },
  {
   "cell_type": "code",
   "execution_count": 12,
   "metadata": {},
   "outputs": [
    {
     "data": {
      "text/plain": [
       "XGBRegressor(base_score=0.5, booster='gbtree', colsample_bylevel=1,\n",
       "       colsample_bytree=0.8, gamma=0, learning_rate=0.01, max_delta_step=0,\n",
       "       max_depth=4, min_child_weight=6, missing=None, n_estimators=5000,\n",
       "       n_jobs=1, nthread=4, objective='binary:logistic', random_state=0,\n",
       "       reg_alpha=0.005, reg_lambda=1, scale_pos_weight=1, seed=1,\n",
       "       silent=True, subsample=0.8)"
      ]
     },
     "execution_count": 12,
     "metadata": {},
     "output_type": "execute_result"
    }
   ],
   "source": [
    "bst = xgb.XGBRegressor(\n",
    " learning_rate =0.01,\n",
    " n_estimators=5000,\n",
    " max_depth=4,\n",
    " min_child_weight=6,\n",
    " gamma=0,\n",
    " subsample=0.8,\n",
    " colsample_bytree=0.8,\n",
    " reg_alpha=0.005,\n",
    " objective= 'binary:logistic',\n",
    " nthread=4,\n",
    " scale_pos_weight=1,seed=1)\n",
    "bst.fit(X_train, y_train)"
   ]
  },
  {
   "cell_type": "code",
   "execution_count": 13,
   "metadata": {},
   "outputs": [
    {
     "data": {
      "text/plain": [
       "0.95011537999904461"
      ]
     },
     "execution_count": 13,
     "metadata": {},
     "output_type": "execute_result"
    }
   ],
   "source": [
    "bst.score(X_train, y_train, sample_weight=None)"
   ]
  },
  {
   "cell_type": "code",
   "execution_count": 14,
   "metadata": {},
   "outputs": [],
   "source": [
    "X_test=Blo[[\"Net Radiation\",\"Latent Heat\",\"Sensible Heat\",\"Soil Heat Flux\",\"Air Temp\",'Soil Temp','Fire']]\n",
    "y_test=Blo[\"CO2 Flux\"]"
   ]
  },
  {
   "cell_type": "code",
   "execution_count": 15,
   "metadata": {},
   "outputs": [],
   "source": [
    "X_test=MaxMinNormalization(X_test,np.max(X_test),np.min(X_test))\n",
    "y_test=MaxMinNormalization(y_test,np.max(y_test),np.min(y_test))"
   ]
  },
  {
   "cell_type": "code",
   "execution_count": 16,
   "metadata": {},
   "outputs": [
    {
     "data": {
      "text/plain": [
       "-0.4098408764369641"
      ]
     },
     "execution_count": 16,
     "metadata": {},
     "output_type": "execute_result"
    }
   ],
   "source": [
    "bst.score(X_test,y_test)"
   ]
  },
  {
   "cell_type": "code",
   "execution_count": 37,
   "metadata": {},
   "outputs": [],
   "source": [
    "from sklearn.metrics import r2_score"
   ]
  },
  {
   "cell_type": "code",
   "execution_count": 38,
   "metadata": {},
   "outputs": [],
   "source": [
    "predictions = bst.predict(X_test)"
   ]
  },
  {
   "cell_type": "code",
   "execution_count": 39,
   "metadata": {},
   "outputs": [
    {
     "data": {
      "text/plain": [
       "array([ 0.52219367,  0.52219367,  0.49768004,  0.52219367,  0.52219367,\n",
       "        0.49768004,  0.52219367,  0.52219367,  0.50643849,  0.54682535,\n",
       "        0.54887676,  0.52290541,  0.54682535,  0.54887676,  0.52290541,\n",
       "        0.54682535,  0.54887676,  0.52290541,  0.54682535,  0.54887676,\n",
       "        0.5873065 ,  0.85060853,  0.81830984,  0.45992979,  0.45971403,\n",
       "        0.48350373,  0.40923145,  0.40782565,  0.53693026,  0.55944866,\n",
       "        0.54512751,  0.5262419 ,  0.51793891,  0.49733716,  0.4733564 ,\n",
       "        0.75414604,  0.54324663,  0.53849053,  0.54053563,  0.53934896,\n",
       "        0.53849053,  0.54053563,  0.53934896,  0.53849053,  0.54053563,\n",
       "        0.53934896,  0.53849053,  0.54053563,  0.54316038,  0.53099209,\n",
       "        0.53273648,  0.53162235,  0.81330734,  0.83058774,  0.83155173,\n",
       "        0.8317858 ,  0.83144426,  0.83225387,  0.83263874,  0.83102912,\n",
       "        0.83225387,  0.83263874,  0.83102912,  0.83225387,  0.83263874,\n",
       "        0.83102912,  0.83225387,  0.83263874,  0.83169895,  0.75150567,\n",
       "        0.79047066,  0.3361614 ,  0.41700464,  0.47931013,  0.83417803,\n",
       "        0.71406215,  0.24972516,  0.32813597,  0.33421671,  0.44175082,\n",
       "        0.66867441,  0.62271744,  0.63752544,  0.71022904,  0.53855646,\n",
       "        0.41211215,  0.68201441,  0.7941367 ,  0.5134232 ,  0.43208942,\n",
       "        0.53579599,  0.46728104,  0.46519002,  0.50190681,  0.61140466,\n",
       "        0.58249909,  0.57793576,  0.58075875,  0.57802171,  0.57793576,\n",
       "        0.58075875,  0.57802171,  0.57793576,  0.57999033,  0.57793576,\n",
       "        0.58075875,  0.57802171,  0.57793576,  0.82819825,  0.81048059,\n",
       "        0.84654474,  0.82548642,  0.84942168,  0.82905245,  0.82481712,\n",
       "        0.84942168,  0.82905245,  0.82481712,  0.84942168,  0.82905245,\n",
       "        0.82481712,  0.84942168,  0.82905245,  0.82878208,  0.74335158,\n",
       "        0.22556876,  0.27835923,  0.2354513 ,  0.37296301,  0.43163109,\n",
       "        0.36373535,  0.55211985,  0.3204135 ,  0.33717865,  0.39147824,\n",
       "        0.30343962,  0.3286888 ,  0.86606789,  0.3939521 ,  0.47638899,\n",
       "        0.77341241,  0.54074985,  0.77258104,  0.48167849,  0.78938276,\n",
       "        0.75660431,  0.75356537,  0.49932489,  0.81028515,  0.78304768,\n",
       "        0.81310779,  0.82001585,  0.80317354,  0.80523759,  0.83544993,\n",
       "        0.74173093,  0.78127229,  0.83921856,  0.79849237,  0.81030107,\n",
       "        0.82785279,  0.52903032,  0.64585739,  0.58167988,  0.60426855,\n",
       "        0.60270745,  0.40076602,  0.4034065 ,  0.30331534,  0.27462417,\n",
       "        0.39604402,  0.4905971 ,  0.36328569,  0.22750436,  0.48329616,\n",
       "        0.78500324,  0.71816128,  0.72140986,  0.66231889,  0.70354116,\n",
       "        0.76594567,  0.81336033,  0.29695868,  0.68348461,  0.77147269,\n",
       "        0.77508354,  0.8218174 ,  0.765598  ,  0.78832382,  0.80164576,\n",
       "        0.76543623,  0.70896333,  0.78933257,  0.81043792,  0.78710252,\n",
       "        0.77162439,  0.79034877,  0.71208417,  0.80034584,  0.81145883,\n",
       "        0.81234431,  0.80470008,  0.75962615,  0.79820067,  0.77770865,\n",
       "        0.77621973,  0.77334696,  0.76116711,  0.72674197,  0.79668933,\n",
       "        0.78746927,  0.78935856,  0.77809489,  0.79107189,  0.801548  ,\n",
       "        0.82601672,  0.81733036,  0.57582301,  0.44215709,  0.42445192,\n",
       "        0.32291758,  0.78651249,  0.7869491 ,  0.50847071,  0.59388268,\n",
       "        0.62379527,  0.58865386,  0.68810904,  0.75549144,  0.26274785,\n",
       "        0.24662085,  0.29224026,  0.46845517,  0.3508597 ,  0.54016185,\n",
       "        0.42999908,  0.27153078,  0.60162145,  0.3654092 ,  0.53292376,\n",
       "        0.63564885,  0.43471214,  0.5388183 ,  0.73407984,  0.47929862,\n",
       "        0.77580017,  0.75801337,  0.76654071,  0.76906902,  0.76813692,\n",
       "        0.42583382,  0.79685497,  0.77664781,  0.81732655,  0.81735146,\n",
       "        0.79115242,  0.78851777,  0.77708936,  0.79689747,  0.79590893,\n",
       "        0.77924669,  0.56882322,  0.77097958,  0.78525585,  0.79916692,\n",
       "        0.56658256,  0.57439333,  0.49932459,  0.40233687,  0.80045605,\n",
       "        0.7606715 ,  0.47048351,  0.33195087,  0.48363921,  0.42155334,\n",
       "        0.51980358,  0.55380213,  0.32575285,  0.28794071,  0.32127857,\n",
       "        0.2838158 ,  0.21690322,  0.66935664,  0.35026604,  0.26913396,\n",
       "        0.41487065,  0.44422039,  0.56036353,  0.50646508,  0.50855738,\n",
       "        0.51306993,  0.59124947,  0.62668037,  0.33598131,  0.59551466,\n",
       "        0.39953831,  0.4991951 ,  0.76004392,  0.54239631,  0.64680988,\n",
       "        0.4705987 ,  0.45331061,  0.46926746,  0.58827609,  0.80044603,\n",
       "        0.79695153,  0.81231439,  0.80319834,  0.81081796,  0.81440663,\n",
       "        0.78349674,  0.79659754,  0.62562168,  0.77620018,  0.53029203,\n",
       "        0.65123767,  0.55843967,  0.54501855,  0.55057472,  0.46131822,\n",
       "        0.51576269,  0.39781716,  0.44352305,  0.48615429,  0.49914649,\n",
       "        0.56492084,  0.5172146 ,  0.47222453,  0.50858259,  0.50576454,\n",
       "        0.4026036 ,  0.26922235,  0.27951249,  0.69703114,  0.3847343 ,\n",
       "        0.28072754,  0.35443622,  0.44874239,  0.41063806,  0.5564965 ,\n",
       "        0.61292094,  0.53391272,  0.56244665,  0.36463183,  0.4890781 ,\n",
       "        0.82286316,  0.84727883,  0.79789901,  0.58384681,  0.80551195,\n",
       "        0.80495989,  0.36687255,  0.51324391,  0.77547777,  0.77742481,\n",
       "        0.61663204,  0.80915076,  0.82303095,  0.8399213 ,  0.81809044,\n",
       "        0.82343918,  0.78298861,  0.57703024,  0.79668933,  0.60531878,\n",
       "        0.58582997,  0.58801436,  0.56183583,  0.58352077,  0.59794414,\n",
       "        0.62596512,  0.56650829,  0.56960493,  0.40219292,  0.37805003,\n",
       "        0.38959268,  0.44974855,  0.32309169,  0.27403286,  0.42181721,\n",
       "        0.22606532,  0.21481383,  0.25709268,  0.27662703,  0.28628331,\n",
       "        0.20141922,  0.31473973,  0.29053766,  0.37594801,  0.49848446,\n",
       "        0.44560373,  0.4920938 ,  0.51513022,  0.65149313,  0.42013505,\n",
       "        0.55572963,  0.60563511,  0.41939944,  0.77495229,  0.79366648,\n",
       "        0.77818793,  0.48452362,  0.40210846,  0.4087728 ,  0.73807985,\n",
       "        0.81806511,  0.81525147,  0.8259058 ,  0.82090878,  0.57355964,\n",
       "        0.81027251,  0.7588501 ,  0.79363489,  0.5529983 ,  0.52618903,\n",
       "        0.79677582,  0.79962212,  0.6045087 ,  0.54451334,  0.58202267,\n",
       "        0.60476953,  0.60196412,  0.63340479,  0.59670645,  0.52733946,\n",
       "        0.41082856,  0.45593205,  0.60375082,  0.54797453,  0.46717826,\n",
       "        0.20360774,  0.29929632,  0.51559305,  0.43407109,  0.48806584,\n",
       "        0.52577996,  0.20450769,  0.24472114,  0.3603341 ,  0.34885332,\n",
       "        0.20488895,  0.29786959,  0.48133311,  0.53375238,  0.57542485,\n",
       "        0.60883272,  0.65116429,  0.63167346,  0.48847884,  0.56524819,\n",
       "        0.54014724,  0.41101742,  0.32805416,  0.50388068,  0.53903151,\n",
       "        0.44730806,  0.43423116,  0.44205123,  0.74574316,  0.79761273,\n",
       "        0.77915508,  0.81297487,  0.52359694,  0.78356057,  0.56949097,\n",
       "        0.56045854,  0.87812251,  0.85946369,  0.81098366,  0.63776982,\n",
       "        0.59846276,  0.5961991 ,  0.62636781,  0.5354268 ,  0.50976956,\n",
       "        0.51069057,  0.80861306,  0.78539431,  0.78462368,  0.52176929,\n",
       "        0.56931537,  0.54981315,  0.54072285,  0.41169491,  0.2979205 ,\n",
       "        0.11556219,  0.17731401,  0.3138608 ,  0.51378703,  0.22173399,\n",
       "        0.25766158,  0.2251692 ,  0.6340906 ,  0.66296017,  0.60320759,\n",
       "        0.66073895,  0.62757331,  0.61928391,  0.58108163,  0.55338264,\n",
       "        0.38794976,  0.55630785,  0.59140682,  0.55262154,  0.4887237 ,\n",
       "        0.51719135,  0.4878017 ,  0.46251568,  0.39917976,  0.37187585,\n",
       "        0.49083909,  0.56046069,  0.81108004,  0.77934229,  0.56638873,\n",
       "        0.79878962,  0.52839893,  0.82982683,  0.78136748,  0.6135816 ,\n",
       "        0.59453398,  0.7688247 ,  0.55614454,  0.56082213,  0.48621854,\n",
       "        0.79877752,  0.43238822,  0.57020831,  0.5337624 ,  0.46926031,\n",
       "        0.35871735,  0.38231331,  0.4130061 ,  0.28097799,  0.45153198,\n",
       "        0.50160515,  0.21559753,  0.313375  ,  0.20083657,  0.29050344,\n",
       "        0.22295573,  0.35604784,  0.23423983,  0.4797394 ,  0.52248436,\n",
       "        0.51646543,  0.52433455,  0.52437192,  0.55782241,  0.56455982,\n",
       "        0.56363183,  0.55954289,  0.47674513,  0.49128041,  0.62225109,\n",
       "        0.53238761,  0.3603906 ,  0.46339428,  0.34125713,  0.54859406,\n",
       "        0.50348568,  0.49179015,  0.44779497,  0.45330846,  0.45018786,\n",
       "        0.44779497,  0.45330846,  0.45018786,  0.44779497,  0.45330846,\n",
       "        0.45018786,  0.4492054 ], dtype=float32)"
      ]
     },
     "execution_count": 39,
     "metadata": {},
     "output_type": "execute_result"
    }
   ],
   "source": [
    "predictions"
   ]
  },
  {
   "cell_type": "code",
   "execution_count": 40,
   "metadata": {},
   "outputs": [
    {
     "data": {
      "text/plain": [
       "0      0.543405\n",
       "1      0.543311\n",
       "2      0.540466\n",
       "3      0.543405\n",
       "4      0.543311\n",
       "5      0.540466\n",
       "6      0.543405\n",
       "7      0.543311\n",
       "8      0.540466\n",
       "9      0.543405\n",
       "10     0.543311\n",
       "11     0.540466\n",
       "12     0.543405\n",
       "13     0.543311\n",
       "14     0.540466\n",
       "15     0.543405\n",
       "16     0.543311\n",
       "17     0.540466\n",
       "18     0.543405\n",
       "19     0.543311\n",
       "20     0.540466\n",
       "21     0.587516\n",
       "22     0.620899\n",
       "23     0.492230\n",
       "24     0.422511\n",
       "25     0.419219\n",
       "26     0.359184\n",
       "27     0.297242\n",
       "28     0.308021\n",
       "29     0.352183\n",
       "         ...   \n",
       "542    0.286929\n",
       "543    0.273436\n",
       "544    0.218747\n",
       "545    0.235251\n",
       "546    0.229493\n",
       "547    0.226428\n",
       "548    0.353268\n",
       "549    0.389004\n",
       "550    0.330538\n",
       "551    0.317785\n",
       "552    0.329552\n",
       "553    0.413134\n",
       "554    0.462206\n",
       "555    0.428027\n",
       "556    0.295007\n",
       "557    0.407949\n",
       "558    0.416735\n",
       "559    0.435070\n",
       "560    0.490892\n",
       "561    0.497408\n",
       "562    0.506278\n",
       "563    0.501732\n",
       "564    0.497408\n",
       "565    0.506278\n",
       "566    0.501732\n",
       "567    0.497408\n",
       "568    0.506278\n",
       "569    0.501732\n",
       "570    0.497408\n",
       "571    0.505654\n",
       "Name: CO2 Flux, Length: 572, dtype: float64"
      ]
     },
     "execution_count": 40,
     "metadata": {},
     "output_type": "execute_result"
    }
   ],
   "source": [
    "y_test"
   ]
  },
  {
   "cell_type": "code",
   "execution_count": 41,
   "metadata": {},
   "outputs": [
    {
     "data": {
      "text/plain": [
       "0.10732157432677281"
      ]
     },
     "execution_count": 41,
     "metadata": {},
     "output_type": "execute_result"
    }
   ],
   "source": [
    "r2_score(predictions, y_test)"
   ]
  },
  {
   "cell_type": "code",
   "execution_count": null,
   "metadata": {
    "collapsed": true
   },
   "outputs": [],
   "source": []
  }
 ],
 "metadata": {
  "kernelspec": {
   "display_name": "Python 3",
   "language": "python",
   "name": "python3"
  },
  "language_info": {
   "codemirror_mode": {
    "name": "ipython",
    "version": 3
   },
   "file_extension": ".py",
   "mimetype": "text/x-python",
   "name": "python",
   "nbconvert_exporter": "python",
   "pygments_lexer": "ipython3",
   "version": "3.6.3"
  }
 },
 "nbformat": 4,
 "nbformat_minor": 2
}
